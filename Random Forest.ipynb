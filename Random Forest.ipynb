{
 "cells": [
  {
   "cell_type": "code",
   "execution_count": 1,
   "metadata": {},
   "outputs": [
    {
     "name": "stderr",
     "output_type": "stream",
     "text": [
      "C:\\ProgramData\\Anaconda3\\lib\\site-packages\\sklearn\\externals\\six.py:31: DeprecationWarning: The module is deprecated in version 0.21 and will be removed in version 0.23 since we've dropped support for Python 2.7. Please rely on the official version of six (https://pypi.org/project/six/).\n",
      "  \"(https://pypi.org/project/six/).\", DeprecationWarning)\n"
     ]
    }
   ],
   "source": [
    "import numpy as np\n",
    "import matplotlib.pyplot as plt\n",
    "\n",
    "from sklearn import svm, tree, datasets\n",
    "from sklearn.utils import shuffle\n",
    "from sklearn.metrics import confusion_matrix, classification_report\n",
    "from sklearn.externals.six import StringIO\n",
    "from sklearn.model_selection import cross_validate\n",
    "\n",
    "from skimage import io\n",
    "from skimage.filters import gaussian\n",
    "from skimage.transform import resize\n",
    "from IPython.display import Image\n",
    "\n",
    "from sklearn.ensemble import RandomForestClassifier"
   ]
  },
  {
   "cell_type": "code",
   "execution_count": 2,
   "metadata": {},
   "outputs": [
    {
     "name": "stdout",
     "output_type": "stream",
     "text": [
      "Loading Training Data...\n"
     ]
    }
   ],
   "source": [
    "class DataSet:\n",
    "    def __init__(self, inputs=None, targets=None):\n",
    "        self.inputs = [] if inputs is None else inputs\n",
    "        self.targets = [] if targets is None else targets\n",
    "\n",
    "\n",
    "if __name__ == '__main__':\n",
    "    dataset = DataSet()\n",
    "    print('Loading Training Data...')\n",
    "    labels = ['01_palm', '02_l', '03_fist', '04_fist_moved', '05_thumb',\n",
    "              '06_index', '07_ok', '08_palm_moved', '09_c', '10_down', ]\n",
    "\n",
    "    # TODO: need to shuffle data before partitioning\n",
    "    # 75% to train\n",
    "    for i in range(10):\n",
    "        for label in labels:\n",
    "            for j in range(1, 151):  # 201):\n",
    "                label.split()\n",
    "                image = io.imread('data/leapGestRecog/0' +\n",
    "                                  str(i) + '/' +\n",
    "                                  label + '/frame_0' +\n",
    "                                  str(i) + '_' +\n",
    "                                  label[0:2] + '_' +\n",
    "                                  str(j).zfill(4) + '.png')\n",
    "                # TODO: should we flatten or resize here?\n",
    "                img_blurred = gaussian(image, sigma=1.65)\n",
    "                dataset.inputs.append(resize(img_blurred, (60, 160), preserve_range=True).flatten())\n",
    "                dataset.targets.append(label)\n",
    "\n",
    "    # shuffle data\n",
    "    x_train, y_train = shuffle(dataset.inputs, dataset.targets)"
   ]
  },
  {
   "cell_type": "code",
   "execution_count": 3,
   "metadata": {},
   "outputs": [
    {
     "name": "stdout",
     "output_type": "stream",
     "text": [
      "Model Selection...\n",
      "gini_6  Score:  0.9517820860277604\n",
      "entropy_6  Score:  0.9632952931747966\n",
      "gini_7  Score:  0.9774635044615287\n",
      "entropy_7  Score:  0.9874905645541135\n",
      "gini_8  Score:  0.9902550645392484\n",
      "entropy_8  Score:  0.9966864754676064\n",
      "gini_9  Score:  0.996347552883992\n",
      "entropy_9  Score:  0.9983366555924695\n",
      "gini_10  Score:  0.9993355481727575\n",
      "entropy_10  Score:  0.9996677740863789\n"
     ]
    }
   ],
   "source": [
    " # Model Selection\n",
    "\n",
    "    print('Model Selection...')\n",
    "    \n",
    "    testScores = {}\n",
    "    myMaxScore = 0\n",
    "    bestFunctionPrameters = \"\"\n",
    "    clf_cv5 = \"\"\n",
    "    for i in [6, 7, 8, 9, 10]:\n",
    "        for j in [\"gini\", \"entropy\"]:\n",
    "            clf_rft = RandomForestClassifier(criterion=j, n_estimators=10, max_features=240, max_depth=i, random_state=0) #15\n",
    "\n",
    "            # perform 5-fold cross validation for each model\n",
    "            scores = cross_validate(clf_rft, x_train, y_train, scoring='precision_macro', cv=5, return_estimator=True)\n",
    "            testScores[j + \"_\" + str(i)] = scores[\"test_score\"]\n",
    "            myScore = np.max(scores[\"test_score\"], axis=0)\n",
    "            print(j + \"_\" + str(i), \" Score: \", str(myScore))\n",
    "            if myScore > myMaxScore:\n",
    "                clf_rft_cv5 = scores[\"estimator\"][np.argmax(scores[\"test_score\"], axis=0)]\n",
    "                myMaxScore = myScore\n",
    "                bestFunctionPrameters = j + \"_\" + str(i)"
   ]
  },
  {
   "cell_type": "code",
   "execution_count": 4,
   "metadata": {},
   "outputs": [
    {
     "name": "stdout",
     "output_type": "stream",
     "text": [
      "Training...\n",
      "Loading Testing Data...\n"
     ]
    }
   ],
   "source": [
    " \t# Training\n",
    "\n",
    "    print('Training...')\n",
    "    bst_rft = clf_rft_cv5\n",
    "\n",
    "    labels = ['01_palm', '02_l', '03_fist', '04_fist_moved', '05_thumb',\n",
    "              '06_index', '07_ok', '08_palm_moved', '09_c', '10_down', ]\n",
    "    print('Loading Testing Data...')\n",
    "    # 25% to test\n",
    "\n",
    "    test_data = DataSet()\n",
    "    for i in range(10):\n",
    "        for label in labels:\n",
    "            for j in range(151, 201):  # 1, 201):\n",
    "                label.split()\n",
    "                image = io.imread('data/leapGestRecog/0' +\n",
    "                                  str(i) + '/' +\n",
    "                                  label + '/frame_0' +\n",
    "                                  str(i) + '_' +\n",
    "                                  label[0:2] + '_' +\n",
    "                                  str(j).zfill(4) + '.png')\n",
    "                img_blurred = gaussian(image, sigma=1.65)\n",
    "                test_data.inputs.append(resize(img_blurred, (60, 160), preserve_range=True).flatten())\n",
    "                test_data.targets.append(label)"
   ]
  },
  {
   "cell_type": "code",
   "execution_count": 6,
   "metadata": {},
   "outputs": [
    {
     "name": "stdout",
     "output_type": "stream",
     "text": [
      "Testing...\n",
      "\n",
      "Classification Report\n",
      "               precision    recall  f1-score   support\n",
      "\n",
      "      01_palm       0.95      0.98      0.96       500\n",
      "         02_l       0.99      0.89      0.93       500\n",
      "      03_fist       0.93      0.94      0.93       500\n",
      "04_fist_moved       0.97      0.99      0.98       500\n",
      "     05_thumb       0.97      0.98      0.98       500\n",
      "     06_index       0.97      1.00      0.99       500\n",
      "        07_ok       0.99      1.00      0.99       500\n",
      "08_palm_moved       0.99      0.96      0.98       500\n",
      "         09_c       0.97      0.98      0.97       500\n",
      "      10_down       1.00      1.00      1.00       500\n",
      "\n",
      "     accuracy                           0.97      5000\n",
      "    macro avg       0.97      0.97      0.97      5000\n",
      " weighted avg       0.97      0.97      0.97      5000\n",
      "\n",
      "\n",
      "Confusion Matrix\n",
      "[[490   3   5   0   0   0   2   0   0   0]\n",
      " [  5 443  30   8   2   4   4   1   1   2]\n",
      " [  7   0 471   2  12   8   0   0   0   0]\n",
      " [  0   2   0 497   0   0   0   1   0   0]\n",
      " [  8   0   0   0 491   1   0   0   0   0]\n",
      " [  0   1   1   0   0 498   0   0   0   0]\n",
      " [  0   0   0   0   0   0 500   0   0   0]\n",
      " [  0   0   0   5   0   0   0 481  14   0]\n",
      " [  7   0   1   0   0   0   1   3 488   0]\n",
      " [  0   0   0   0   0   0   0   0   0 500]]\n"
     ]
    },
    {
     "data": {
      "image/png": "[encoded data removed]",
      "text/plain": [
       "<Figure size 576x432 with 1 Axes>"
      ]
     },
     "metadata": {
      "needs_background": "light"
     },
     "output_type": "display_data"
    }
   ],
   "source": [
    "\n",
    "    print('Testing...')\n",
    "    predicted = bst_rft.predict(test_data.inputs)\n",
    "    print(\"\\nClassification Report\")\n",
    "\n",
    "    print(classification_report(test_data.targets, predicted))\n",
    "    print(\"\\nConfusion Matrix\")\n",
    "    print(confusion_matrix(test_data.targets, predicted))\n",
    "\n",
    "\n",
    "\n",
    "\n",
    "\t#clf_rft = clf_rft.fit(X_train, y_train)\n",
    "\t#y_pred_rft=clf_rft.predict(X_test)\n",
    "    y_train_score_rft=bst_rft.predict(x_train)\n",
    "    #print(\"accuracy of the model is:\\nTest \", accuracy_score(test_data.targets, predicted, normalize=True, sample_weight=None))\n",
    "    #print('Train',accuracy_score(y_train, y_train_score_rft, normalize=True, sample_weight=None))\n",
    "\n",
    "\t# creating the box plot for model-selection\n",
    "s = testScores.values()\n",
    "labels = testScores.keys()\n",
    "fig = plt.figure(figsize=(8, 6))\n",
    "plt.boxplot([x for x in s], 0, '', 1)\n",
    "plt.xticks([y + 1 for y in range(len([x for x in s]))], labels, rotation=70)\n",
    "plt.xlabel('Models(metric and max depth)')\n",
    "plt.ylabel('Accuracy')\n",
    "t = plt.title('Box plot of HyperParameters with 5-fold cross validation')\n",
    "plt.show()\n"
   ]
  },
  {
   "cell_type": "code",
   "execution_count": null,
   "metadata": {},
   "outputs": [],
   "source": []
  }
 ],
 "metadata": {
  "kernelspec": {
   "display_name": "Python 3",
   "language": "python",
   "name": "python3"
  },
  "language_info": {
   "codemirror_mode": {
    "name": "ipython",
    "version": 3
   },
   "file_extension": ".py",
   "mimetype": "text/x-python",
   "name": "python",
   "nbconvert_exporter": "python",
   "pygments_lexer": "ipython3",
   "version": "3.6.9"
  }
 },
 "nbformat": 4,
 "nbformat_minor": 2
}
